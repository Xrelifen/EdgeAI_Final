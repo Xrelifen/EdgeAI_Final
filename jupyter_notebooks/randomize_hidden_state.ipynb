{
 "cells": [
  {
   "cell_type": "markdown",
   "metadata": {},
   "source": [
    "# Experiment: Randomize LLM's trasformer block, and observe the "
   ]
  },
  {
   "cell_type": "code",
   "execution_count": 1,
   "metadata": {},
   "outputs": [],
   "source": [
    "import torch\n",
    "\n",
    "def sampling_without_replacement(\n",
    "        sampling_logits: torch.Tensor, \n",
    "        rand: torch.Tensor,  \n",
    "        num_samples: int,\n",
    "        temperature :float\n",
    "    ):\n",
    "\n",
    "    sampling_q = torch.softmax(sampling_logits / temperature, dim=-1)\n",
    "    sampled_indices = (rand.log()/sampling_q).topk(k=num_samples).indices\n",
    "    sampled_probs = torch.gather(sampling_q, 1, sampled_indices)\n",
    "    \n",
    "    return sampled_probs, sampled_indices"
   ]
  },
  {
   "cell_type": "code",
   "execution_count": 4,
   "metadata": {},
   "outputs": [],
   "source": [
    "seq_len = 5\n",
    "hidden_dim = 1024\n",
    "logits = torch.randn(seq_len, hidden_dim)\n",
    "\n",
    "seq_len, hidden_dim = logits.shape\n",
    "\n",
    "device = logits.device\n",
    "rand = torch.rand(seq_len, hidden_dim, device=device)\n",
    "\n",
    "sampled_probs, indices = sampling_without_replacement(logits, rand=rand, num_samples=seq_len, temperature=0.6)"
   ]
  },
  {
   "cell_type": "code",
   "execution_count": 5,
   "metadata": {},
   "outputs": [
    {
     "data": {
      "text/plain": [
       "(tensor([[0.0138, 0.0011, 0.0005, 0.0010, 0.0250],\n",
       "         [0.0154, 0.0163, 0.0029, 0.0038, 0.0004],\n",
       "         [0.0083, 0.0025, 0.0084, 0.0002, 0.0061],\n",
       "         [0.0011, 0.0350, 0.0005, 0.1185, 0.0073],\n",
       "         [0.0005, 0.0113, 0.0054, 0.0017, 0.0018]]),\n",
       " tensor([[802, 979, 643, 191, 458],\n",
       "         [507, 523, 226, 471, 705],\n",
       "         [ 85,  72, 338, 383, 123],\n",
       "         [ 37, 948, 274, 994, 423],\n",
       "         [663, 836, 476, 536, 187]]))"
      ]
     },
     "execution_count": 5,
     "metadata": {},
     "output_type": "execute_result"
    }
   ],
   "source": [
    "sampled_probs, indices"
   ]
  }
 ],
 "metadata": {
  "kernelspec": {
   "display_name": "Python 3",
   "language": "python",
   "name": "python3"
  },
  "language_info": {
   "codemirror_mode": {
    "name": "ipython",
    "version": 3
   },
   "file_extension": ".py",
   "mimetype": "text/x-python",
   "name": "python",
   "nbconvert_exporter": "python",
   "pygments_lexer": "ipython3",
   "version": "3.10.14"
  }
 },
 "nbformat": 4,
 "nbformat_minor": 2
}
