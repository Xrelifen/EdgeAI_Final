{
 "cells": [
  {
   "cell_type": "code",
   "execution_count": 3,
   "metadata": {},
   "outputs": [],
   "source": [
    "import torch\n",
    "from torch.utils.data import WeightedRandomSampler"
   ]
  },
  {
   "cell_type": "code",
   "execution_count": 149,
   "metadata": {},
   "outputs": [
    {
     "name": "stdout",
     "output_type": "stream",
     "text": [
      "tensor([402, 240, 144,  74,  62,  35,  23,   9,   6,   5,   0,   0,   0,   0,\n",
      "          0,   0,   0,   0,   0,   0])\n"
     ]
    }
   ],
   "source": [
    "def geometric_sampling(p, size=1, max_n=10):\n",
    "    # Generate probabilities for integers 1 to n\n",
    "    probs = (1 - p) * p ** torch.arange(max_n, dtype=torch.float32)\n",
    "    probs /= probs.sum()  # Normalize the probabilities to sum to 1\n",
    "    \n",
    "    # Calculate the total number of samples required\n",
    "    num_samples = torch.prod(torch.tensor(size)).item()\n",
    "    \n",
    "    # Sample integers with the calculated probabilities\n",
    "    samples = torch.multinomial(probs, num_samples=num_samples, replacement=True) + 1\n",
    "    \n",
    "    # Reshape the samples to the specified size\n",
    "    samples = samples.view(size)\n",
    "    return samples\n",
    "\n",
    "# Example usage\n",
    "p = 0.6\n",
    "samples = geometric_sampling(p, size=(2, 1, 10, 10))\n",
    "# Count the occurrences of each integer\n",
    "counts = torch.bincount(samples, minlength=21)[1:]\n",
    "print(counts)"
   ]
  },
  {
   "cell_type": "code",
   "execution_count": 64,
   "metadata": {},
   "outputs": [
    {
     "data": {
      "text/plain": [
       "tensor([[0., 1., 1., 1.],\n",
       "        [0., 0., 0., 0.],\n",
       "        [1., 0., 0., 0.],\n",
       "        [1., 1., 1., 0.]])"
      ]
     },
     "execution_count": 64,
     "metadata": {},
     "output_type": "execute_result"
    }
   ],
   "source": [
    "rates = torch.rand(4, 4) * 0.95\n",
    "torch.poisson(rates)"
   ]
  },
  {
   "cell_type": "code",
   "execution_count": 78,
   "metadata": {},
   "outputs": [
    {
     "data": {
      "text/plain": [
       "tensor([[2., 2., 2., 2.],\n",
       "        [1., 1., 2., 2.],\n",
       "        [3., 2., 1., 2.],\n",
       "        [2., 2., 1., 2.]])"
      ]
     },
     "execution_count": 78,
     "metadata": {},
     "output_type": "execute_result"
    }
   ],
   "source": [
    "# torch.distributions.binomial.Binomial(total_count=5, probs=0.9).sample()\n",
    "torch.round(torch.exp(torch.rand(4, 4)))"
   ]
  },
  {
   "cell_type": "code",
   "execution_count": 122,
   "metadata": {},
   "outputs": [],
   "source": [
    "def build_sharekv_mask(weight, N):\n",
    "    bs, _, _, L = weight.shape\n",
    "    \n",
    "    # Create a random width tensor for each row (values between 1 and N)\n",
    "    random_widths = torch.randint(0, N, (bs, L))\n",
    "    \n",
    "    # Create a mask for the diagonal stripes\n",
    "    index = torch.arange(L).unsqueeze(0).unsqueeze(0)  # Shape: (1, 1, L)\n",
    "    row_indices = torch.arange(L).unsqueeze(1).unsqueeze(0)  # Shape: (1, L, 1)\n",
    "\n",
    "    # Create a mask using broadcasting to set the diagonal stripes properly\n",
    "    mask = (index >= row_indices - random_widths.unsqueeze(2)).unsqueeze(1)\n",
    "\n",
    "    # Convert the mask to a lower triangular matrix\n",
    "    mask = torch.tril(mask)\n",
    "\n",
    "    return mask"
   ]
  },
  {
   "cell_type": "code",
   "execution_count": 120,
   "metadata": {},
   "outputs": [
    {
     "name": "stdout",
     "output_type": "stream",
     "text": [
      "torch.Size([2, 1, 10, 10])\n",
      "tensor([[[[ True, False, False, False, False, False, False, False, False, False],\n",
      "          [ True,  True, False, False, False, False, False, False, False, False],\n",
      "          [ True,  True,  True, False, False, False, False, False, False, False],\n",
      "          [ True,  True,  True,  True, False, False, False, False, False, False],\n",
      "          [False, False, False,  True,  True, False, False, False, False, False],\n",
      "          [False, False, False,  True,  True,  True, False, False, False, False],\n",
      "          [False, False, False, False, False, False,  True, False, False, False],\n",
      "          [False, False, False, False, False, False,  True,  True, False, False],\n",
      "          [False, False, False, False, False,  True,  True,  True,  True, False],\n",
      "          [False, False, False, False, False, False,  True,  True,  True,  True]]],\n",
      "\n",
      "\n",
      "        [[[ True, False, False, False, False, False, False, False, False, False],\n",
      "          [ True,  True, False, False, False, False, False, False, False, False],\n",
      "          [False,  True,  True, False, False, False, False, False, False, False],\n",
      "          [False, False, False,  True, False, False, False, False, False, False],\n",
      "          [False, False, False,  True,  True, False, False, False, False, False],\n",
      "          [False, False, False, False,  True,  True, False, False, False, False],\n",
      "          [False, False, False, False, False, False,  True, False, False, False],\n",
      "          [False, False, False, False, False,  True,  True,  True, False, False],\n",
      "          [False, False, False, False,  True,  True,  True,  True,  True, False],\n",
      "          [False, False, False, False, False, False, False, False, False,  True]]]])\n"
     ]
    }
   ],
   "source": [
    "import torch\n",
    "\n",
    "# Define the size of the mask (e.g., L x L)\n",
    "batch_size = 2\n",
    "L = 10\n",
    "N = 5  # Maximum width of the diagonal stripe\n",
    "\n",
    "# Create a random width tensor for each row (values between 1 and N)\n",
    "random_widths = torch.randint(0, N, (batch_size, L))\n",
    "\n",
    "# mask = torch.arange(L).unsqueeze(0) >= torch.arange(L).unsqueeze(1) - random_widths.unsqueeze(1)\n",
    "index = torch.arange(L).unsqueeze(0).unsqueeze(0)  # Shape: (1, 1, L)\n",
    "row_indices = torch.arange(L).unsqueeze(1).unsqueeze(0)  # Shape: (1, L, 1)\n",
    "\n",
    "# Create a mask using broadcasting to set the diagonal stripes properly\n",
    "mask = (index >= row_indices - random_widths.unsqueeze(2)).unsqueeze(1)\n",
    "\n",
    "# Convert the mask to a lower triangular matrix\n",
    "mask = torch.tril(mask)\n",
    "\n",
    "print(mask.shape)\n",
    "print(mask)"
   ]
  },
  {
   "cell_type": "code",
   "execution_count": 1,
   "metadata": {},
   "outputs": [
    {
     "data": {
      "text/plain": [
       "(None,)"
      ]
     },
     "execution_count": 1,
     "metadata": {},
     "output_type": "execute_result"
    }
   ],
   "source": [
    "(None, )"
   ]
  },
  {
   "cell_type": "code",
   "execution_count": 121,
   "metadata": {},
   "outputs": [
    {
     "data": {
      "text/plain": [
       "(torch.Size([1, 1, 10]), torch.Size([1, 10, 1]))"
      ]
     },
     "execution_count": 121,
     "metadata": {},
     "output_type": "execute_result"
    }
   ],
   "source": [
    "torch.arange(L).unsqueeze(0).unsqueeze(0).shape, torch.arange(L).unsqueeze(1).unsqueeze(0).shape"
   ]
  },
  {
   "cell_type": "code",
   "execution_count": 104,
   "metadata": {},
   "outputs": [
    {
     "name": "stdout",
     "output_type": "stream",
     "text": [
      "tensor([[ True, False, False, False, False, False, False, False, False, False],\n",
      "        [ True,  True, False, False, False, False, False, False, False, False],\n",
      "        [ True,  True,  True, False, False, False, False, False, False, False],\n",
      "        [False,  True,  True,  True, False, False, False, False, False, False],\n",
      "        [ True,  True,  True,  True,  True, False, False, False, False, False],\n",
      "        [False, False, False, False,  True,  True, False, False, False, False],\n",
      "        [False,  True,  True,  True,  True,  True,  True, False, False, False],\n",
      "        [False, False, False,  True,  True,  True,  True,  True, False, False],\n",
      "        [False, False, False,  True,  True,  True,  True,  True,  True, False],\n",
      "        [False, False, False, False,  True,  True,  True,  True,  True,  True]])\n"
     ]
    }
   ],
   "source": [
    "import torch\n",
    "\n",
    "# Define the size of the mask (e.g., L x L)\n",
    "L = 10\n",
    "N = 10  # Maximum width of the diagonal stripe\n",
    "\n",
    "# Create a random width tensor for each row (values between 1 and N)\n",
    "random_widths = torch.randint(0, N, (L,))\n",
    "\n",
    "# Create a mask using broadcasting to set the diagonal stripes properly\n",
    "mask = torch.arange(L).unsqueeze(0) >= (torch.arange(L) - random_widths).unsqueeze(1)\n",
    "\n",
    "# Convert the mask to a lower triangular matrix\n",
    "mask = torch.tril(mask)\n",
    "\n",
    "print(mask)"
   ]
  },
  {
   "cell_type": "code",
   "execution_count": 90,
   "metadata": {},
   "outputs": [
    {
     "data": {
      "text/plain": [
       "tensor([[0, 1, 2, 3, 4, 5, 6, 7, 8, 9]])"
      ]
     },
     "execution_count": 90,
     "metadata": {},
     "output_type": "execute_result"
    }
   ],
   "source": [
    "torch.arange(L).unsqueeze(0)"
   ]
  },
  {
   "cell_type": "code",
   "execution_count": 89,
   "metadata": {},
   "outputs": [
    {
     "data": {
      "text/plain": [
       "tensor([[-4],\n",
       "        [ 0],\n",
       "        [-5],\n",
       "        [ 1],\n",
       "        [ 4],\n",
       "        [ 0],\n",
       "        [ 6],\n",
       "        [ 2],\n",
       "        [ 2],\n",
       "        [ 5]])"
      ]
     },
     "execution_count": 89,
     "metadata": {},
     "output_type": "execute_result"
    }
   ],
   "source": [
    "torch.arange(L).unsqueeze(1) - random_widths.unsqueeze(1)"
   ]
  },
  {
   "cell_type": "code",
   "execution_count": 91,
   "metadata": {},
   "outputs": [
    {
     "data": {
      "text/plain": [
       "tensor([[ True,  True,  True,  True,  True,  True,  True,  True,  True,  True],\n",
       "        [ True,  True,  True,  True,  True,  True,  True,  True,  True,  True],\n",
       "        [ True,  True,  True,  True,  True,  True,  True,  True,  True,  True],\n",
       "        [False,  True,  True,  True,  True,  True,  True,  True,  True,  True],\n",
       "        [False, False, False, False,  True,  True,  True,  True,  True,  True],\n",
       "        [ True,  True,  True,  True,  True,  True,  True,  True,  True,  True],\n",
       "        [False, False, False, False, False, False,  True,  True,  True,  True],\n",
       "        [False, False,  True,  True,  True,  True,  True,  True,  True,  True],\n",
       "        [False, False,  True,  True,  True,  True,  True,  True,  True,  True],\n",
       "        [False, False, False, False, False,  True,  True,  True,  True,  True]])"
      ]
     },
     "execution_count": 91,
     "metadata": {},
     "output_type": "execute_result"
    }
   ],
   "source": [
    "torch.arange(L).unsqueeze(0) >= torch.arange(L).unsqueeze(1) - random_widths.unsqueeze(1)"
   ]
  },
  {
   "cell_type": "code",
   "execution_count": 67,
   "metadata": {},
   "outputs": [
    {
     "name": "stdout",
     "output_type": "stream",
     "text": [
      "tensor([[[[ True, False, False, False, False],\n",
      "          [ True,  True, False, False, False],\n",
      "          [ True,  True,  True, False, False],\n",
      "          [False,  True,  True,  True, False],\n",
      "          [False, False,  True,  True,  True]]]])\n",
      "tensor([[[[False,  True,  True,  True,  True],\n",
      "          [False, False,  True,  True,  True],\n",
      "          [False, False, False,  True,  True],\n",
      "          [ True, False, False, False,  True],\n",
      "          [ True,  True, False, False, False]]]])\n"
     ]
    }
   ],
   "source": [
    "# Example usage:\n",
    "bs = 1\n",
    "num_heads = 2\n",
    "hidden_dim = 5 # number of tokens per bin\n",
    "sharedkv_N = 3\n",
    "\n",
    "# Random tensor for demonstration purposes\n",
    "attn_weights = torch.rand(bs, num_heads, hidden_dim, hidden_dim)\n",
    "v_weights = torch.rand(bs, num_heads, hidden_dim, 8)\n",
    "\n",
    "sharedkv_mask = torch.ones((bs, 1, hidden_dim, hidden_dim), dtype=torch.bool)\n",
    "sharedkv_mask = torch.tril(sharedkv_mask, diagonal=-sharedkv_N) ^ torch.tril(sharedkv_mask, diagonal=0)\n",
    "# sharedkv_mask = torch.triu(sharedkv_mask, diagonal=1-sharedkv_N) ^ torch.triu(sharedkv_mask, diagonal=1)\n",
    "inv_sharedkv_mask = ~sharedkv_mask\n",
    "print(sharedkv_mask)\n",
    "print(inv_sharedkv_mask)"
   ]
  },
  {
   "cell_type": "code",
   "execution_count": 26,
   "metadata": {},
   "outputs": [
    {
     "name": "stdout",
     "output_type": "stream",
     "text": [
      "tensor([[[[ True, False, False, False, False],\n",
      "          [False,  True, False, False, False],\n",
      "          [False, False,  True, False, False],\n",
      "          [False, False, False,  True, False],\n",
      "          [False, False, False, False,  True]]]])\n",
      "tensor([[[[False,  True,  True,  True,  True],\n",
      "          [ True, False,  True,  True,  True],\n",
      "          [ True,  True, False,  True,  True],\n",
      "          [ True,  True,  True, False,  True],\n",
      "          [ True,  True,  True,  True, False]]]])\n"
     ]
    }
   ],
   "source": [
    "print(sharedkv_mask)\n",
    "print(inv_sharedkv_mask)"
   ]
  },
  {
   "cell_type": "code",
   "execution_count": 21,
   "metadata": {},
   "outputs": [
    {
     "data": {
      "text/plain": [
       "tensor([[0., 1., 1., 1., 1., 1., 1., 1.],\n",
       "        [0., 0., 1., 1., 1., 1., 1., 1.],\n",
       "        [1., 0., 0., 1., 1., 1., 1., 1.],\n",
       "        [1., 1., 0., 0., 1., 1., 1., 1.],\n",
       "        [1., 1., 1., 0., 0., 1., 1., 1.]])"
      ]
     },
     "execution_count": 21,
     "metadata": {},
     "output_type": "execute_result"
    }
   ],
   "source": [
    "triu_inv_sharedkv_mask"
   ]
  },
  {
   "cell_type": "code",
   "execution_count": 7,
   "metadata": {},
   "outputs": [
    {
     "name": "stdout",
     "output_type": "stream",
     "text": [
      "tensor([0, 1, 3, 2, 2])\n"
     ]
    }
   ],
   "source": [
    "import torch\n",
    "\n",
    "def count_top_k_bins(output_prob, k):\n",
    "    # n: number of bins, vocab_dim: number of tokens in each bin\n",
    "    n, vocab_dim = output_prob.shape\n",
    "    \n",
    "    # Flatten the tensor to treat it as a single list of tokens\n",
    "    flattened_probs = output_prob.flatten()  # Shape: (n * vocab_dim)\n",
    "    \n",
    "    # Get the indices of the top k values\n",
    "    topk_values, topk_indices = torch.topk(flattened_probs, k)\n",
    "    \n",
    "    # Convert flat indices back to bin indices\n",
    "    topk_bin_ids = topk_indices // vocab_dim  # Dividing by vocab_dim gives the bin index\n",
    "\n",
    "    # Count occurrences of each bin\n",
    "    bin_counts = torch.bincount(topk_bin_ids, minlength=n)\n",
    "    \n",
    "    return bin_counts\n",
    "\n",
    "# Example usage:\n",
    "n = 5  # number of bins\n",
    "vocab_dim = 10  # number of tokens per bin\n",
    "k = 8  # top k tokens to select\n",
    "\n",
    "# Random tensor for demonstration purposes\n",
    "output_prob = torch.rand(n, vocab_dim)\n",
    "\n",
    "# Get the count of top-k tokens from each bin\n",
    "bin_counts = count_top_k_bins(output_prob, k)\n",
    "print(bin_counts)"
   ]
  },
  {
   "cell_type": "code",
   "execution_count": 2,
   "metadata": {},
   "outputs": [
    {
     "name": "stdout",
     "output_type": "stream",
     "text": [
      "tensor([0, 3, 4, 3, 0])\n"
     ]
    }
   ],
   "source": [
    "def assign_balls_to_baskets(P: torch.Tensor, k: int) -> torch.Tensor:\n",
    "    \"\"\"\n",
    "    Assign k balls into n baskets with probability P for each basket.\n",
    "\n",
    "    Args:\n",
    "        P (torch.Tensor): A 1D tensor of size n representing the probability distribution of baskets.\n",
    "        k (int): The number of balls to assign.\n",
    "\n",
    "    Returns:\n",
    "        torch.Tensor: A 1D tensor of size n representing the number of balls in each basket.\n",
    "    \"\"\"\n",
    "    # Ensure the probabilities sum to 1\n",
    "    P = P / P.sum()\n",
    "    \n",
    "    # Sample `k` balls according to the probability distribution\n",
    "    ball_assignments = torch.multinomial(P, k, replacement=True)\n",
    "    \n",
    "    # Count the number of balls in each basket\n",
    "    ball_counts = torch.bincount(ball_assignments, minlength=P.size(0))\n",
    "    \n",
    "    return ball_counts\n",
    "\n",
    "# Example usage\n",
    "P = torch.tensor([0.1, 0.2, 0.3, 0.25, 0.15])  # Probability distribution for the baskets\n",
    "n = P.size(0)  # number of baskets\n",
    "k = 10  # number of balls\n",
    "\n",
    "ball_distribution = assign_balls_to_baskets(P, k)\n",
    "print(ball_distribution)"
   ]
  },
  {
   "cell_type": "code",
   "execution_count": 6,
   "metadata": {},
   "outputs": [
    {
     "name": "stdout",
     "output_type": "stream",
     "text": [
      "CPU times: user 194 μs, sys: 297 μs, total: 491 μs\n",
      "Wall time: 351 μs\n"
     ]
    }
   ],
   "source": [
    "%%time\n",
    "ball_distribution = assign_balls_to_baskets(P, k)"
   ]
  },
  {
   "cell_type": "code",
   "execution_count": 14,
   "metadata": {},
   "outputs": [
    {
     "data": {
      "text/plain": [
       "tensor([1, 3, 3, 3, 0])"
      ]
     },
     "execution_count": 14,
     "metadata": {},
     "output_type": "execute_result"
    }
   ],
   "source": [
    "ball_distribution"
   ]
  },
  {
   "cell_type": "code",
   "execution_count": 13,
   "metadata": {},
   "outputs": [
    {
     "data": {
      "text/plain": [
       "tensor([10,  9,  6,  3,  0])"
      ]
     },
     "execution_count": 13,
     "metadata": {},
     "output_type": "execute_result"
    }
   ],
   "source": [
    "ball_distribution + ball_distribution.sum() - ball_distribution.cumsum(dim=0)"
   ]
  },
  {
   "cell_type": "code",
   "execution_count": 10,
   "metadata": {},
   "outputs": [
    {
     "data": {
      "text/plain": [
       "tensor([ 1,  4,  7, 10, 10])"
      ]
     },
     "execution_count": 10,
     "metadata": {},
     "output_type": "execute_result"
    }
   ],
   "source": [
    "ball_distribution.cumsum(dim=0)"
   ]
  },
  {
   "cell_type": "code",
   "execution_count": 5,
   "metadata": {},
   "outputs": [],
   "source": [
    "P_new = torch.softmax(P, dim=0)"
   ]
  },
  {
   "cell_type": "code",
   "execution_count": 4,
   "metadata": {},
   "outputs": [
    {
     "name": "stdout",
     "output_type": "stream",
     "text": [
      "tensor([0.1805, 0.1995, 0.2205, 0.2097, 0.1898])\n",
      "tensor([0.1000, 0.2000, 0.3000, 0.2500, 0.1500])\n"
     ]
    }
   ],
   "source": [
    "print(P_new)\n",
    "print(P)"
   ]
  },
  {
   "cell_type": "code",
   "execution_count": null,
   "metadata": {},
   "outputs": [],
   "source": []
  },
  {
   "cell_type": "code",
   "execution_count": 12,
   "metadata": {},
   "outputs": [],
   "source": [
    "# x = torch.rand(2, 5, 512) # torch.Size([2, 5, 512])\n"
   ]
  },
  {
   "cell_type": "code",
   "execution_count": 5,
   "metadata": {},
   "outputs": [
    {
     "name": "stdout",
     "output_type": "stream",
     "text": [
      "torch.Size([2, 5])\n",
      "torch.Size([2, 5, 3])\n",
      "tensor([[ 1.,  2.,  3.],\n",
      "        [ 7.,  8.,  9.],\n",
      "        [13., 14., 15.],\n",
      "        [ 1.,  2.,  3.],\n",
      "        [ 4.,  5.,  6.],\n",
      "        [ 7.,  8.,  9.],\n",
      "        [13., 14., 15.]])\n"
     ]
    }
   ],
   "source": [
    "mask = torch.tensor([[1, 0, 1, 0, 1], [1, 1, 1, 0, 1]], dtype=torch.bool)\n",
    "print(mask.shape) # torch.Size([2, 5])\n",
    "\n",
    "x = torch.tensor([[[1, 2, 3], [4, 5, 6], [7, 8, 9], [10, 11, 12], [13, 14, 15]], [[1, 2, 3], [4, 5, 6], [7, 8, 9], [10, 11, 12], [13, 14, 15]]], dtype=torch.float32)\n",
    "print(x.shape)\n",
    "bs, seq_len, dim = x.shape\n",
    "\n",
    "x = x[mask]\n",
    "print(x)\n",
    "\n"
   ]
  },
  {
   "cell_type": "code",
   "execution_count": 6,
   "metadata": {},
   "outputs": [
    {
     "data": {
      "text/plain": [
       "torch.Size([6, 512])"
      ]
     },
     "execution_count": 6,
     "metadata": {},
     "output_type": "execute_result"
    }
   ],
   "source": [
    "x.shape"
   ]
  }
 ],
 "metadata": {
  "kernelspec": {
   "display_name": "Python 3",
   "language": "python",
   "name": "python3"
  },
  "language_info": {
   "codemirror_mode": {
    "name": "ipython",
    "version": 3
   },
   "file_extension": ".py",
   "mimetype": "text/x-python",
   "name": "python",
   "nbconvert_exporter": "python",
   "pygments_lexer": "ipython3",
   "version": "3.10.14"
  }
 },
 "nbformat": 4,
 "nbformat_minor": 2
}
