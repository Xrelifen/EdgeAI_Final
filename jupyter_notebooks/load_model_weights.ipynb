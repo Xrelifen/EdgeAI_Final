{
 "cells": [
  {
   "cell_type": "code",
   "execution_count": 1,
   "metadata": {},
   "outputs": [],
   "source": [
    "import os\n",
    "import sys\n",
    "module_path = os.path.abspath(os.path.join('..'))\n",
    "if module_path not in sys.path:\n",
    "    sys.path.append(module_path)"
   ]
  },
  {
   "cell_type": "code",
   "execution_count": 2,
   "metadata": {},
   "outputs": [
    {
     "name": "stderr",
     "output_type": "stream",
     "text": [
      "/home/nctu/envs/eagle/lib/python3.10/site-packages/tqdm/auto.py:21: TqdmWarning: IProgress not found. Please update jupyter and ipywidgets. See https://ipywidgets.readthedocs.io/en/stable/user_install.html\n",
      "  from .autonotebook import tqdm as notebook_tqdm\n"
     ]
    }
   ],
   "source": [
    "import torch\n",
    "from models import SSM_Eagle\n",
    "from transformers import AutoConfig, LlamaConfig"
   ]
  },
  {
   "cell_type": "code",
   "execution_count": 3,
   "metadata": {},
   "outputs": [],
   "source": [
    "config = LlamaConfig.from_pretrained(\"meta-llama/Llama-2-7b-chat-hf\")\n",
    "config.num_hidden_layers = 1\n",
    "model = SSM_Eagle(config=config)"
   ]
  },
  {
   "cell_type": "code",
   "execution_count": 4,
   "metadata": {},
   "outputs": [
    {
     "name": "stderr",
     "output_type": "stream",
     "text": [
      "/tmp/ipykernel_3301762/1152381055.py:1: FutureWarning: You are using `torch.load` with `weights_only=False` (the current default value), which uses the default pickle module implicitly. It is possible to construct malicious pickle data which will execute arbitrary code during unpickling (See https://github.com/pytorch/pytorch/blob/main/SECURITY.md#untrusted-models for more details). In a future release, the default value for `weights_only` will be flipped to `True`. This limits the functions that could be executed during unpickling. Arbitrary objects will no longer be allowed to be loaded via this mode unless they are explicitly allowlisted by the user via `torch.serialization.add_safe_globals`. We recommend you start setting `weights_only=True` for any use case where you don't have full control of the loaded file. Please open an issue on GitHub for any issues related to this experimental feature.\n",
      "  model_state_dict = torch.load('pytorch_model.bin', map_location='cpu')\n"
     ]
    },
    {
     "data": {
      "text/plain": [
       "<All keys matched successfully>"
      ]
     },
     "execution_count": 4,
     "metadata": {},
     "output_type": "execute_result"
    }
   ],
   "source": [
    "model_state_dict = torch.load('pytorch_model.bin', map_location='cpu')\n",
    "new_state_dict = {}\n",
    "for key, value in model_state_dict.items():\n",
    "    if key.startswith('layers.'):\n",
    "        # add models prefix to the key\n",
    "        new_key = f'model.{key}'\n",
    "        new_state_dict[new_key] = value\n",
    "    elif key.startswith(\"fc\"):\n",
    "        # add models prefix to the key\n",
    "        new_key = f'fusion.{key}'\n",
    "        new_state_dict[new_key] = value\n",
    "    elif key.startswith('embed'):\n",
    "        continue\n",
    "        # add models prefix to the key\n",
    "        # new_key = f'model.{key}'\n",
    "        # new_state_dict[new_key] = value\n",
    "    else:\n",
    "        new_state_dict[key] = value\n",
    "        \n",
    "    \n",
    "model_state_dict = new_state_dict\n",
    "\n",
    "model.load_state_dict(model_state_dict)"
   ]
  },
  {
   "cell_type": "code",
   "execution_count": 5,
   "metadata": {},
   "outputs": [],
   "source": [
    "from safetensors.torch import save_model\n",
    "\n",
    "save_dir = '/home/nctu/checkpoints/eagle/official/EAGLE-llama2-chat-7B/'\n",
    "\n",
    "# create folder if not exists\n",
    "if not os.path.exists(save_dir):\n",
    "    os.makedirs(save_dir)\n",
    "\n",
    "save_model(model, os.path.join(save_dir, 'model.safetensors'))"
   ]
  }
 ],
 "metadata": {
  "kernelspec": {
   "display_name": "Python 3",
   "language": "python",
   "name": "python3"
  },
  "language_info": {
   "codemirror_mode": {
    "name": "ipython",
    "version": 3
   },
   "file_extension": ".py",
   "mimetype": "text/x-python",
   "name": "python",
   "nbconvert_exporter": "python",
   "pygments_lexer": "ipython3",
   "version": "3.10.14"
  }
 },
 "nbformat": 4,
 "nbformat_minor": 2
}
