{
 "cells": [
  {
   "cell_type": "code",
   "execution_count": 1,
   "metadata": {},
   "outputs": [
    {
     "name": "stderr",
     "output_type": "stream",
     "text": [
      "/home/nctu/envs/eagle/lib/python3.10/site-packages/tqdm/auto.py:21: TqdmWarning: IProgress not found. Please update jupyter and ipywidgets. See https://ipywidgets.readthedocs.io/en/stable/user_install.html\n",
      "  from .autonotebook import tqdm as notebook_tqdm\n"
     ]
    }
   ],
   "source": [
    "from datasets import load_dataset\n",
    "\n",
    "dataset_dir = \"Aeala/ShareGPT_Vicuna_unfiltered\"\n",
    "\n",
    "ds = load_dataset(dataset_dir)\n",
    "ds = ds['train']"
   ]
  },
  {
   "cell_type": "code",
   "execution_count": 3,
   "metadata": {},
   "outputs": [],
   "source": [
    "from transformers import AutoModelForCausalLM, AutoTokenizer\n",
    "\n",
    "m0_name=\"meta-llama/Llama-2-7b-chat-hf\"\n",
    "tokenizer = AutoTokenizer.from_pretrained(m0_name)"
   ]
  },
  {
   "cell_type": "code",
   "execution_count": 16,
   "metadata": {},
   "outputs": [
    {
     "name": "stderr",
     "output_type": "stream",
     "text": [
      "Map (num_proc=32): 100%|██████████| 68000/68000 [00:18<00:00, 3667.31 examples/s] \n"
     ]
    }
   ],
   "source": [
    "import torch\n",
    "from fastchat.model.model_adapter import get_conversation_template\n",
    "\n",
    "dataset_dir = \"Aeala/ShareGPT_Vicuna_unfiltered\"\n",
    "\n",
    "def build_dataset_rank(\n",
    "        tokenizer, split=\"train\",\n",
    "        select=None,\n",
    "):\n",
    "    # ds = load_dataset('json', data_files=data_dir)\n",
    "    ds = load_dataset(dataset_dir)\n",
    "    ds = ds['train']\n",
    "    ds = ds.shuffle(seed=42)\n",
    "    ds1 = ds.select(range(0, 68000))\n",
    "    # ds1 = ds.select(range(100,200))\n",
    "    # dst=ds.select(range(200,300))\n",
    "    # ds2=ds.select(range(300,len(ds)))\n",
    "    original_columns1 = ds1.column_names\n",
    "    # original_columns2 = ds2.column_names\n",
    "    num_proc = 32#16#64#16#4\n",
    "\n",
    "    def preprocess_function(examples):\n",
    "        new_examples = {\n",
    "            \"conversation\":[],\n",
    "            \"input_ids\": [],\n",
    "            \"loss_mask\": []\n",
    "        }\n",
    "        for i in range(len(examples['id'])):\n",
    "            conv = get_conversation_template(\"llama-2-chat\")\n",
    "            sys_p=\"You are a helpful, respectful and honest assistant. Always answer as helpfully as possible, while being safe.  Your answers should not include any harmful, unethical, racist, sexist, toxic, dangerous, or illegal content. Please ensure that your responses are socially unbiased and positive in nature.\\n\\nIf a question does not make any sense, or is not factually coherent, explain why instead of answering something not correct. If you don't know the answer to a question, please don't share false information.\"\n",
    "            conv.system_message=sys_p\n",
    "            roles = {\"human\": conv.roles[0], \"gpt\": conv.roles[1]}\n",
    "            source= examples['conversations'][i]\n",
    "            if roles[source[0][\"from\"]] != conv.roles[0]:\n",
    "                # Skip the first one if it is not from human\n",
    "                source = source[1:]\n",
    "            conv.messages = []\n",
    "            for j, sentence in enumerate(source):\n",
    "                role = roles[sentence[\"from\"]]\n",
    "                assert role == conv.roles[j % 2], f\"{i}\"\n",
    "                if sentence[\"from\"]==\"gpt\":\n",
    "                    sentence[\"value\"]=\" \"+sentence[\"value\"]\n",
    "                conv.append_message(role, sentence[\"value\"])\n",
    "            conversation=conv.get_prompt()\n",
    "            # if i==56:\n",
    "            #     print(i)\n",
    "            # if i==57:\n",
    "            #     print(i)\n",
    "            if not tokenizer.pad_token_id:\n",
    "                tokenizer.pad_token_id=tokenizer.unk_token_id\n",
    "\n",
    "            input_ids = tokenizer(\n",
    "                conversation,\n",
    "                return_tensors=\"pt\",\n",
    "                max_length=2048,\n",
    "                truncation=True,\n",
    "            ).input_ids[0]\n",
    "            loss_mask=torch.ones_like(input_ids)\n",
    "            #print(i)\n",
    "\n",
    "            sep = conv.sep + conv.roles[1] + \" \"\n",
    "\n",
    "\n",
    "\n",
    "            total_len = int(input_ids.ne(tokenizer.pad_token_id).sum())\n",
    "\n",
    "            turns = conversation.split(conv.sep2)\n",
    "            cur_len = 1\n",
    "            loss_mask[:cur_len] = 0\n",
    "            for i, turn in enumerate(turns):\n",
    "                if turn == \"\":\n",
    "                    break\n",
    "                turn_len = len(tokenizer(turn).input_ids)\n",
    "\n",
    "                parts = turn.split(sep)\n",
    "                if len(parts) != 2:\n",
    "                    break\n",
    "                parts[0] += sep\n",
    "                # \"-2\" is hardcoded for the Llama tokenizer to make the offset correct.\n",
    "                instruction_len = len(tokenizer(parts[0]).input_ids) - 2\n",
    "\n",
    "                # if i != 0 and not tokenizer.legacy:\n",
    "                #     # The legacy and non-legacy modes handle special tokens differently\n",
    "                #     instruction_len -= 1\n",
    "\n",
    "                # Ignore the user instructions\n",
    "                loss_mask[cur_len: cur_len + instruction_len] = 0\n",
    "                cur_len += turn_len\n",
    "                cur_len+=2\n",
    "\n",
    "                if i != 0 and not tokenizer.legacy:\n",
    "                    # The legacy and non-legacy modes handle special tokens differently\n",
    "                    cur_len -= 1\n",
    "\n",
    "            loss_mask[cur_len:] = 0\n",
    "\n",
    "\n",
    "\n",
    "            new_examples[\"conversation\"].append(conversation)\n",
    "            new_examples[\"input_ids\"].append(input_ids[None,:])\n",
    "            new_examples[\"loss_mask\"].append(loss_mask[None,:])\n",
    "\n",
    "        return new_examples\n",
    "\n",
    "    ds1 = ds1.map(\n",
    "        preprocess_function,\n",
    "        batched=True,\n",
    "        num_proc=num_proc,\n",
    "        remove_columns=original_columns1,\n",
    "        load_from_cache_file=False\n",
    "    )\n",
    "\n",
    "    # ds1 = ds1.filter(lambda x: len(x[\"input_ids\"]) < 1024, batched=False)\n",
    "    # ds1 = ds1.filter(lambda x: x['queryf'] not in gqs, batched=False)\n",
    "    # ds1 = ds1.filter(lambda x: \"Are there any tips in regards to teaching\" in x['queryf'], batched=False)\n",
    "\n",
    "    ds1.set_format(type=\"torch\")\n",
    "    # ds2.set_format(type=\"torch\")\n",
    "    # dst.set_format(type=\"torch\")\n",
    "    return ds1\n",
    "\n",
    "ds = build_dataset_rank(tokenizer)"
   ]
  },
  {
   "cell_type": "code",
   "execution_count": 26,
   "metadata": {},
   "outputs": [
    {
     "name": "stderr",
     "output_type": "stream",
     "text": [
      "100%|██████████| 68000/68000 [00:25<00:00, 2710.26it/s]\n"
     ]
    }
   ],
   "source": [
    "# obtain token id frequency in the dataset\n",
    "from collections import Counter\n",
    "import torch\n",
    "from tqdm import tqdm\n",
    "\n",
    "def get_token_id_freq(ds):\n",
    "    token_id_freq = Counter()\n",
    "    for i in tqdm(range(len(ds))):\n",
    "        input_ids = ds[i][\"input_ids\"]\n",
    "        token_id_freq.update(input_ids.view(-1).tolist())\n",
    "    return token_id_freq\n",
    "\n",
    "token_id_freq = get_token_id_freq(ds)"
   ]
  },
  {
   "cell_type": "code",
   "execution_count": 41,
   "metadata": {},
   "outputs": [
    {
     "data": {
      "image/png": "[encoded data removed]",
      "text/plain": [
       "<Figure size 640x480 with 1 Axes>"
      ]
     },
     "metadata": {},
     "output_type": "display_data"
    }
   ],
   "source": [
    "# plot\n",
    "import matplotlib.pyplot as plt\n",
    "\n",
    "token_id_freq_plt = dict(token_id_freq)\n",
    "token_id_freq_plt = sorted(token_id_freq_plt.items(), key=lambda x: x[1], reverse=True)\n",
    "token_id_freq_plt = list(zip(*token_id_freq_plt))\n",
    "\n",
    "plt.plot(token_id_freq_plt[1])\n",
    "plt.yscale(\"log\")\n",
    "\n",
    "#draw a line in 4096\n",
    "plt.axvline(x=4096, color='r', linestyle='--')\n",
    "\n",
    "#draw a line in 8192\n",
    "plt.axvline(x=8192, color='g', linestyle='--')\n",
    "\n",
    "# draw a line at 1000 threshold\n",
    "plt.axhline(y=1000, color='b', linestyle='--')\n",
    "\n",
    "plt.show()"
   ]
  },
  {
   "cell_type": "code",
   "execution_count": 48,
   "metadata": {},
   "outputs": [],
   "source": [
    "KEEP_TOP_N = 8192\n",
    "TOTAL_TOKENS = 32000\n",
    "\n",
    "# generate an array of size 8192 with the most frequent token ids\n",
    "top_token_ids = list(token_id_freq.keys())[:KEEP_TOP_N]\n",
    "top_token_ids[KEEP_TOP_N-1] = -1\n",
    "top_token_ids = torch.tensor(top_token_ids)\n",
    "\n",
    "# save the top token ids\n",
    "torch.save(top_token_ids, f\"top_{KEEP_TOP_N}_id_map.pt\")\n",
    "\n",
    "#inverse mapping & index id\n",
    "top_token_ids_map = {v: k for k, v in enumerate(top_token_ids.tolist())}\n",
    "top_token_ids_map = torch.tensor([top_token_ids_map.get(i, KEEP_TOP_N-1) for i in range(TOTAL_TOKENS)])\n",
    "\n",
    "# save the top token ids map\n",
    "torch.save(top_token_ids_map, f\"top_{KEEP_TOP_N}_id_map_inverse.pt\")\n",
    "\n",
    "# id mapping sorted by frequency\n",
    "top_token_ids_freq = list(token_id_freq.keys())\n",
    "top_token_ids_freq = torch.tensor(top_token_ids_freq)\n",
    "\n",
    "# save the top token ids freq\n",
    "torch.save(top_token_ids_freq, f\"top_{KEEP_TOP_N}_id_map_freq.pt\")"
   ]
  },
  {
   "cell_type": "code",
   "execution_count": 44,
   "metadata": {},
   "outputs": [
    {
     "data": {
      "image/png": "[encoded data removed]",
      "text/plain": [
       "<Figure size 640x480 with 1 Axes>"
      ]
     },
     "metadata": {},
     "output_type": "display_data"
    }
   ],
   "source": [
    "# sum all the values after 8191 to 8191, and plot\n",
    "token_id_freq_test = dict(token_id_freq)\n",
    "token_id_freq_test = sorted(token_id_freq_test.items(), key=lambda x: x[1], reverse=True)\n",
    "# sum all the values after 8191 to 8191\n",
    "\n",
    "\n",
    "\n",
    "def sum_after_num(token_id_freq_test, num=8192):\n",
    "    token_id_freq_test = list(token_id_freq_test)\n",
    "    \n",
    "    # token_id_freq_test[8191] = sum(token_id_freq_test[8191:])\n",
    "    total = 0\n",
    "    for i in range(num-1, len(token_id_freq_test)):\n",
    "        total += token_id_freq_test[i][1]\n",
    "    token_id_freq_test[num-1] = (token_id_freq_test[num-1][0], total)\n",
    "    token_id_freq_test = token_id_freq_test[:num]\n",
    "    return token_id_freq_test\n",
    "\n",
    "token_id_freq_test = sum_after_num(token_id_freq_test, num=KEEP_TOP_N)\n",
    "token_id_freq_test = list(zip(*token_id_freq_test))\n",
    "\n",
    "plt.plot(token_id_freq_test[1])\n",
    "plt.yscale(\"log\")\n",
    "\n",
    "#draw a line in 8192\n",
    "# plt.axvline(x=8192, color='r', linestyle='--')\n",
    "\n",
    "plt.show()"
   ]
  }
 ],
 "metadata": {
  "kernelspec": {
   "display_name": "Python 3",
   "language": "python",
   "name": "python3"
  },
  "language_info": {
   "codemirror_mode": {
    "name": "ipython",
    "version": 3
   },
   "file_extension": ".py",
   "mimetype": "text/x-python",
   "name": "python",
   "nbconvert_exporter": "python",
   "pygments_lexer": "ipython3",
   "version": "3.10.14"
  }
 },
 "nbformat": 4,
 "nbformat_minor": 2
}
