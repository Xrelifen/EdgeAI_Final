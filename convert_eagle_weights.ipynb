{
 "cells": [
  {
   "cell_type": "code",
   "execution_count": null,
   "metadata": {},
   "outputs": [],
   "source": [
    "import torch\n",
    "from transformers import AutoModelForCausalLM\n",
    "from specdecodes.models.draft_models.eagle_sd import EagleSDDraftModel\n",
    "\n",
    "target_model = AutoModelForCausalLM.from_pretrained(\"meta-llama/Meta-Llama-3-8B-Instruct\", device_map='meta')\n",
    "draft_model = EagleSDDraftModel(target_model=target_model)"
   ]
  },
  {
   "cell_type": "markdown",
   "metadata": {},
   "source": [
    "Convert weights"
   ]
  },
  {
   "cell_type": "code",
   "execution_count": null,
   "metadata": {},
   "outputs": [],
   "source": [
    "model_state_dict = torch.load('pytorch_model.bin', map_location='cpu')\n",
    "new_state_dict = {}\n",
    "for key, value in model_state_dict.items():\n",
    "    if key.startswith('layers.'):\n",
    "        # add models prefix to the key\n",
    "        new_key = f'model.{key}'\n",
    "        new_state_dict[new_key] = value\n",
    "    elif key.startswith(\"fc\"):\n",
    "        # add models prefix to the key\n",
    "        new_key = f'fusion.{key}'\n",
    "        new_state_dict[new_key] = value\n",
    "    elif key.startswith('embed'):\n",
    "        # skip the embedding layers\n",
    "        continue\n",
    "    else:\n",
    "        new_state_dict[key] = value\n",
    "model_state_dict = new_state_dict\n",
    "\n",
    "draft_model.load_state_dict(model_state_dict)"
   ]
  },
  {
   "cell_type": "markdown",
   "metadata": {},
   "source": [
    "Save weights to directory"
   ]
  },
  {
   "cell_type": "code",
   "execution_count": null,
   "metadata": {},
   "outputs": [],
   "source": [
    "import os\n",
    "from safetensors.torch import save_model\n",
    "\n",
    "save_dir = '/home/scott306lr_l/checkpoints/eagle/official/EAGLE-LLaMA3-Instruct-8B/'\n",
    "\n",
    "# create folder if not exists\n",
    "if not os.path.exists(save_dir):\n",
    "    os.makedirs(save_dir)\n",
    "\n",
    "save_model(draft_model, os.path.join(save_dir, 'model.safetensors'))"
   ]
  }
 ],
 "metadata": {
  "kernelspec": {
   "display_name": "Python 3",
   "language": "python",
   "name": "python3"
  },
  "language_info": {
   "codemirror_mode": {
    "name": "ipython",
    "version": 3
   },
   "file_extension": ".py",
   "mimetype": "text/x-python",
   "name": "python",
   "nbconvert_exporter": "python",
   "pygments_lexer": "ipython3",
   "version": "3.11.10"
  }
 },
 "nbformat": 4,
 "nbformat_minor": 2
}
